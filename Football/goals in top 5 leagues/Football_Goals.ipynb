{
  "nbformat": 4,
  "nbformat_minor": 0,
  "metadata": {
    "colab": {
      "name": "Football Goals",
      "version": "0.3.2",
      "provenance": [],
      "collapsed_sections": []
    },
    "kernelspec": {
      "name": "python3",
      "display_name": "Python 3"
    }
  },
  "cells": [
    {
      "cell_type": "code",
      "metadata": {
        "id": "vemIDOs_qHlX",
        "colab_type": "code",
        "colab": {}
      },
      "source": [
        "# importing libraries\n",
        "import re\n",
        "import pandas as pd\n",
        "import requests\n",
        "from urllib.request import urlopen as ureq\n",
        "from requests import get\n",
        "from bs4 import BeautifulSoup as BS\n",
        "import time\n",
        "import numpy as np\n",
        "from urllib.parse import urlparse\n",
        "from tqdm import tqdm_notebook as tqdm"
      ],
      "execution_count": 0,
      "outputs": []
    },
    {
      "cell_type": "code",
      "metadata": {
        "id": "SBNoSGDtQrkD",
        "colab_type": "code",
        "colab": {}
      },
      "source": [
        "#Get Data Funtion\n",
        "\n",
        "def get_dataset(link, league):\n",
        "  df = pd.DataFrame(columns=['Year', 'Link'])\n",
        "\n",
        "  r = requests.get(link)\n",
        "  soup = BS(r.content,\"html5lib\")\n",
        "  rows = soup.find('select', attrs={'name':'saison'}).find_all('option')\n",
        "  for row in rows:\n",
        "    link = row['value']\n",
        "    year = row.text.strip()\n",
        "    if year != '2019/2020':\n",
        "      df = df.append(pd.Series([str(year), link], index=df.columns ), ignore_index=True)\n",
        "  if league == 'Serie A':\n",
        "    df = df[:31]\n",
        "  else:\n",
        "    df = df[:29]\n",
        "\n",
        "  dataset = pd.DataFrame(columns=['Player', 'Country', 'League', '1990/1991',\n",
        "   '1991/1992',\n",
        "   '1992/1993',\n",
        "   '1993/1994',\n",
        "   '1994/1995',\n",
        "   '1995/1996',\n",
        "   '1996/1997',\n",
        "   '1997/1998',\n",
        "   '1998/1999',\n",
        "   '1999/2000',\n",
        "   '2000/2001',\n",
        "   '2001/2002',\n",
        "   '2002/2003',\n",
        "   '2003/2004',\n",
        "   '2004/2005',\n",
        "   '2005/2006',\n",
        "   '2006/2007',\n",
        "   '2007/2008',\n",
        "   '2008/2009',\n",
        "   '2009/2010',\n",
        "   '2010/2011',\n",
        "   '2011/2012',\n",
        "   '2012/2013',\n",
        "   '2013/2014',\n",
        "   '2014/2015',\n",
        "   '2015/2016',\n",
        "   '2016/2017',\n",
        "   '2017/2018',\n",
        "   '2018/2019'])\n",
        "\n",
        "  for i in range(0,len(df['Year'])):\n",
        "        r = requests.get('https://www.worldfootball.net'+str(df['Link'][i]))\n",
        "        soup = BS(r.content,\"html5lib\") \n",
        "        rows = soup.find(\"table\", attrs={'class':'standard_tabelle'}).find(\"tbody\").find_all(\"tr\")\n",
        "        for row in rows[1:]:\n",
        "          player = row.find('td').find_next('td').text.strip()\n",
        "          country = row.find('td').find_next('td').find_next('td').find_next('td').text.strip()\n",
        "          goals = row.find('td').find_next('td').find_next('td').find_next('td').find_next('td').find_next('td').text.strip()\n",
        "          goals = goals.split('(')[0]\n",
        "          if player not in set(dataset['Player']):\n",
        "            row_num = len(dataset['Player'])\n",
        "            dataset.loc[row_num,'Player'] = player\n",
        "            dataset.loc[row_num,'Country'] = country          \n",
        "            dataset.loc[row_num,'League'] = league\n",
        "          else:\n",
        "            row_num = dataset.index[dataset['Player'] == player][0]\n",
        "          dataset.loc[row_num,'%s' % df['Year'][i]] = goals\n",
        "  return dataset"
      ],
      "execution_count": 0,
      "outputs": []
    },
    {
      "cell_type": "code",
      "metadata": {
        "id": "8cexkKNdqPB0",
        "colab_type": "code",
        "colab": {}
      },
      "source": [
        "epl_data = get_dataset('https://www.worldfootball.net/goalgetter/eng-premier-league-2018-2019/', 'EPL')\n",
        "laliga_data = get_dataset('https://www.worldfootball.net/goalgetter/esp-primera-division-2018-2019/', 'La Liga')\n",
        "ligue1_data = get_dataset('https://www.worldfootball.net/goalgetter/fra-ligue-1-2018-2019/', 'Ligue 1')\n",
        "serie_a_data = get_dataset('https://www.worldfootball.net/goalgetter/ita-serie-a-2018-2019/', 'Serie A')\n",
        "bundesliga_data = get_dataset('https://www.worldfootball.net/goalgetter/bundesliga-2018-2019/', 'Bundesliga')"
      ],
      "execution_count": 0,
      "outputs": []
    },
    {
      "cell_type": "code",
      "metadata": {
        "id": "zVpi_9UU-mNp",
        "colab_type": "code",
        "colab": {}
      },
      "source": [
        "epl_data.fillna(0, inplace=True)\n",
        "laliga_data.fillna(0, inplace=True)\n",
        "ligue1_data.fillna(0, inplace=True)\n",
        "serie_a_data.fillna(0, inplace=True)\n",
        "bundesliga_data.fillna(0, inplace=True)\n",
        "\n",
        "serie_a_data.drop(['1999/2000 Playoff','1998/1999 Uefa-Cup'], axis=1, inplace=True)"
      ],
      "execution_count": 0,
      "outputs": []
    },
    {
      "cell_type": "code",
      "metadata": {
        "id": "PITacKJc_Kkp",
        "colab_type": "code",
        "colab": {}
      },
      "source": [
        "epl_data.to_csv('Goals in EPL (1990-2019).csv', index=False)\n",
        "laliga_data.to_csv('Goals in La Liga (1990-2019).csv', index=False)\n",
        "ligue1_data.to_csv('Goals in Ligue 1 (1990-2019).csv', index=False)\n",
        "serie_a_data.to_csv('Goals in Serie A (1990-2019).csv', index=False)\n",
        "bundesliga_data.to_csv('Goals in Bundesliga (1990-2019).csv', index=False)"
      ],
      "execution_count": 0,
      "outputs": []
    },
    {
      "cell_type": "code",
      "metadata": {
        "id": "ATIjgfs3RcPQ",
        "colab_type": "code",
        "colab": {}
      },
      "source": [
        "combined = pd.concat([epl_data, laliga_data, ligue1_data, serie_a_data, bundesliga_data], axis=0, ignore_index=True)\n",
        "cols = combined.columns.drop(['Player', 'Country', 'League'])\n",
        "combined[cols] = combined[cols].apply(pd.to_numeric, errors='coerce')"
      ],
      "execution_count": 0,
      "outputs": []
    },
    {
      "cell_type": "code",
      "metadata": {
        "id": "PcGu9f0wSL-H",
        "colab_type": "code",
        "colab": {}
      },
      "source": [
        "group = combined.groupby('Player')['1990/1991',\n",
        "   '1991/1992',\n",
        "   '1992/1993',\n",
        "   '1993/1994',\n",
        "   '1994/1995',\n",
        "   '1995/1996',\n",
        "   '1996/1997',\n",
        "   '1997/1998',\n",
        "   '1998/1999',\n",
        "   '1999/2000',\n",
        "   '2000/2001',\n",
        "   '2001/2002',\n",
        "   '2002/2003',\n",
        "   '2003/2004',\n",
        "   '2004/2005',\n",
        "   '2005/2006',\n",
        "   '2006/2007',\n",
        "   '2007/2008',\n",
        "   '2008/2009',\n",
        "   '2009/2010',\n",
        "   '2010/2011',\n",
        "   '2011/2012',\n",
        "   '2012/2013',\n",
        "   '2013/2014',\n",
        "   '2014/2015',\n",
        "   '2015/2016',\n",
        "   '2016/2017',\n",
        "   '2017/2018',\n",
        "   '2018/2019'].agg('sum').reset_index()"
      ],
      "execution_count": 0,
      "outputs": []
    },
    {
      "cell_type": "code",
      "metadata": {
        "id": "lc-ICMCMSOVR",
        "colab_type": "code",
        "colab": {
          "base_uri": "https://localhost:8080/",
          "height": 117
        },
        "outputId": "eb87811d-893c-4a33-9860-2cc5964b2eee"
      },
      "source": [
        "group.loc[group['Player']=='Cristiano Ronaldo']"
      ],
      "execution_count": 213,
      "outputs": [
        {
          "output_type": "execute_result",
          "data": {
            "text/html": [
              "<div>\n",
              "<style scoped>\n",
              "    .dataframe tbody tr th:only-of-type {\n",
              "        vertical-align: middle;\n",
              "    }\n",
              "\n",
              "    .dataframe tbody tr th {\n",
              "        vertical-align: top;\n",
              "    }\n",
              "\n",
              "    .dataframe thead th {\n",
              "        text-align: right;\n",
              "    }\n",
              "</style>\n",
              "<table border=\"1\" class=\"dataframe\">\n",
              "  <thead>\n",
              "    <tr style=\"text-align: right;\">\n",
              "      <th></th>\n",
              "      <th>Player</th>\n",
              "      <th>1990/1991</th>\n",
              "      <th>1991/1992</th>\n",
              "      <th>1992/1993</th>\n",
              "      <th>1993/1994</th>\n",
              "      <th>1994/1995</th>\n",
              "      <th>1995/1996</th>\n",
              "      <th>1996/1997</th>\n",
              "      <th>1997/1998</th>\n",
              "      <th>1998/1999</th>\n",
              "      <th>1999/2000</th>\n",
              "      <th>2000/2001</th>\n",
              "      <th>2001/2002</th>\n",
              "      <th>2002/2003</th>\n",
              "      <th>2003/2004</th>\n",
              "      <th>2004/2005</th>\n",
              "      <th>2005/2006</th>\n",
              "      <th>2006/2007</th>\n",
              "      <th>2007/2008</th>\n",
              "      <th>2008/2009</th>\n",
              "      <th>2009/2010</th>\n",
              "      <th>2010/2011</th>\n",
              "      <th>2011/2012</th>\n",
              "      <th>2012/2013</th>\n",
              "      <th>2013/2014</th>\n",
              "      <th>2014/2015</th>\n",
              "      <th>2015/2016</th>\n",
              "      <th>2016/2017</th>\n",
              "      <th>2017/2018</th>\n",
              "      <th>2018/2019</th>\n",
              "    </tr>\n",
              "  </thead>\n",
              "  <tbody>\n",
              "    <tr>\n",
              "      <th>1726</th>\n",
              "      <td>Cristiano Ronaldo</td>\n",
              "      <td>0</td>\n",
              "      <td>0</td>\n",
              "      <td>0</td>\n",
              "      <td>0</td>\n",
              "      <td>0</td>\n",
              "      <td>0</td>\n",
              "      <td>0</td>\n",
              "      <td>0</td>\n",
              "      <td>0</td>\n",
              "      <td>0</td>\n",
              "      <td>0</td>\n",
              "      <td>0</td>\n",
              "      <td>0</td>\n",
              "      <td>4</td>\n",
              "      <td>5</td>\n",
              "      <td>9</td>\n",
              "      <td>17</td>\n",
              "      <td>31</td>\n",
              "      <td>18</td>\n",
              "      <td>26</td>\n",
              "      <td>40</td>\n",
              "      <td>46</td>\n",
              "      <td>34</td>\n",
              "      <td>31</td>\n",
              "      <td>48</td>\n",
              "      <td>35</td>\n",
              "      <td>25</td>\n",
              "      <td>26</td>\n",
              "      <td>21</td>\n",
              "    </tr>\n",
              "  </tbody>\n",
              "</table>\n",
              "</div>"
            ],
            "text/plain": [
              "                 Player  1990/1991  1991/1992  ...  2016/2017  2017/2018  2018/2019\n",
              "1726  Cristiano Ronaldo          0          0  ...         25         26         21\n",
              "\n",
              "[1 rows x 30 columns]"
            ]
          },
          "metadata": {
            "tags": []
          },
          "execution_count": 213
        }
      ]
    },
    {
      "cell_type": "code",
      "metadata": {
        "id": "OQ0JTZ18TOCV",
        "colab_type": "code",
        "colab": {}
      },
      "source": [
        "group.to_csv('Goals in Top 5 Leagues (1990-2019).csv', index=False)"
      ],
      "execution_count": 0,
      "outputs": []
    },
    {
      "cell_type": "code",
      "metadata": {
        "id": "ZTZUlQ29Vn-b",
        "colab_type": "code",
        "colab": {}
      },
      "source": [
        "group_country = combined.groupby('Country')['1990/1991',\n",
        "   '1991/1992',\n",
        "   '1992/1993',\n",
        "   '1993/1994',\n",
        "   '1994/1995',\n",
        "   '1995/1996',\n",
        "   '1996/1997',\n",
        "   '1997/1998',\n",
        "   '1998/1999',\n",
        "   '1999/2000',\n",
        "   '2000/2001',\n",
        "   '2001/2002',\n",
        "   '2002/2003',\n",
        "   '2003/2004',\n",
        "   '2004/2005',\n",
        "   '2005/2006',\n",
        "   '2006/2007',\n",
        "   '2007/2008',\n",
        "   '2008/2009',\n",
        "   '2009/2010',\n",
        "   '2010/2011',\n",
        "   '2011/2012',\n",
        "   '2012/2013',\n",
        "   '2013/2014',\n",
        "   '2014/2015',\n",
        "   '2015/2016',\n",
        "   '2016/2017',\n",
        "   '2017/2018',\n",
        "   '2018/2019'].agg('sum').reset_index()"
      ],
      "execution_count": 0,
      "outputs": []
    },
    {
      "cell_type": "code",
      "metadata": {
        "id": "2AUxzh4vZBL9",
        "colab_type": "code",
        "colab": {}
      },
      "source": [
        "group_country.to_csv('Goals in Top 5 Leagues by Country(1990-2019).csv', index=False)"
      ],
      "execution_count": 0,
      "outputs": []
    },
    {
      "cell_type": "code",
      "metadata": {
        "id": "z0H2S2VzZCIN",
        "colab_type": "code",
        "colab": {}
      },
      "source": [
        ""
      ],
      "execution_count": 0,
      "outputs": []
    }
  ]
}